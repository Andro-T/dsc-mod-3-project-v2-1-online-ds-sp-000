{
 "cells": [
  {
   "cell_type": "markdown",
   "metadata": {},
   "source": [
    "## Final Project Submission\n",
    "\n",
    "Please fill out:\n",
    "* Student name: Andro Tikvica\n",
    "* Student pace: Self Paced\n",
    "* Scheduled project review date/time: 25/08/2021 16:00 CEST\n",
    "* Instructor name: Jeff Herman\n",
    "* Blog post URL:\n"
   ]
  },
  {
   "cell_type": "markdown",
   "metadata": {},
   "source": [
    "This project will be analyzing the Churn in Telecom's dataset from Kaggle [https://www.kaggle.com/becksddf/churn-in-telecoms-dataset].\n",
    "\n",
    "The customer in question here is trying to reduce the number of customers that are leaving the business. Doing so could help maintain revenue while reducing the amount that needs to be spent on attracting new customers. This will help the business while simultaenously, hopefully, improving the User Experience. "
   ]
  },
  {
   "cell_type": "markdown",
   "metadata": {},
   "source": [
    "**Questions:**\n",
    "- What things can SyriaTel do to reduce customer churn?\n",
    "- Which customers are the most likely to churn?\n",
    "- Which new customers should be targeted with new marketing campaigns?\n",
    "\n"
   ]
  },
  {
   "cell_type": "code",
   "execution_count": 139,
   "metadata": {},
   "outputs": [],
   "source": [
    "# Primary packages\n",
    "import numpy as np\n",
    "import pandas as pd\n",
    "import matplotlib.pyplot as plt\n",
    "import seaborn as sns\n",
    "# Remove warnings\n",
    "import warnings\n",
    "warnings.filterwarnings('ignore')\n",
    "\n",
    "# Sci-kit Learn\n",
    "from sklearn import preprocessing\n",
    "from sklearn.preprocessing import StandardScaler, MinMaxScaler, Imputer, OneHotEncoder, LabelEncoder\n",
    "from sklearn.model_selection import train_test_split, cross_val_score, KFold, GridSearchCV\n",
    "from sklearn.metrics import accuracy_score, roc_auc_score, f1_score, precision_score, recall_score\n",
    "from sklearn.metrics import confusion_matrix, classification_report, roc_curve, auc\n",
    "from sklearn.feature_selection import RFE\n",
    "from sklearn.pipeline import Pipeline\n",
    "from sklearn.dummy import DummyClassifier\n",
    "from sklearn.tree import DecisionTreeClassifier\n",
    "from sklearn.ensemble import RandomForestClassifier, AdaBoostClassifier\n",
    "from sklearn.linear_model import LogisticRegression, LassoCV\n",
    "import xgboost as xgb\n",
    "\n",
    "# Lime\n",
    "import lime\n",
    "import lime.lime_tabular"
   ]
  },
  {
   "cell_type": "code",
   "execution_count": 140,
   "metadata": {},
   "outputs": [
    {
     "data": {
      "text/html": [
       "<div>\n",
       "<style scoped>\n",
       "    .dataframe tbody tr th:only-of-type {\n",
       "        vertical-align: middle;\n",
       "    }\n",
       "\n",
       "    .dataframe tbody tr th {\n",
       "        vertical-align: top;\n",
       "    }\n",
       "\n",
       "    .dataframe thead th {\n",
       "        text-align: right;\n",
       "    }\n",
       "</style>\n",
       "<table border=\"1\" class=\"dataframe\">\n",
       "  <thead>\n",
       "    <tr style=\"text-align: right;\">\n",
       "      <th></th>\n",
       "      <th>state</th>\n",
       "      <th>account length</th>\n",
       "      <th>area code</th>\n",
       "      <th>phone number</th>\n",
       "      <th>international plan</th>\n",
       "      <th>voice mail plan</th>\n",
       "      <th>number vmail messages</th>\n",
       "      <th>total day minutes</th>\n",
       "      <th>total day calls</th>\n",
       "      <th>total day charge</th>\n",
       "      <th>...</th>\n",
       "      <th>total eve calls</th>\n",
       "      <th>total eve charge</th>\n",
       "      <th>total night minutes</th>\n",
       "      <th>total night calls</th>\n",
       "      <th>total night charge</th>\n",
       "      <th>total intl minutes</th>\n",
       "      <th>total intl calls</th>\n",
       "      <th>total intl charge</th>\n",
       "      <th>customer service calls</th>\n",
       "      <th>churn</th>\n",
       "    </tr>\n",
       "  </thead>\n",
       "  <tbody>\n",
       "    <tr>\n",
       "      <th>0</th>\n",
       "      <td>KS</td>\n",
       "      <td>128</td>\n",
       "      <td>415</td>\n",
       "      <td>382-4657</td>\n",
       "      <td>no</td>\n",
       "      <td>yes</td>\n",
       "      <td>25</td>\n",
       "      <td>265.1</td>\n",
       "      <td>110</td>\n",
       "      <td>45.07</td>\n",
       "      <td>...</td>\n",
       "      <td>99</td>\n",
       "      <td>16.78</td>\n",
       "      <td>244.7</td>\n",
       "      <td>91</td>\n",
       "      <td>11.01</td>\n",
       "      <td>10.0</td>\n",
       "      <td>3</td>\n",
       "      <td>2.70</td>\n",
       "      <td>1</td>\n",
       "      <td>False</td>\n",
       "    </tr>\n",
       "    <tr>\n",
       "      <th>1</th>\n",
       "      <td>OH</td>\n",
       "      <td>107</td>\n",
       "      <td>415</td>\n",
       "      <td>371-7191</td>\n",
       "      <td>no</td>\n",
       "      <td>yes</td>\n",
       "      <td>26</td>\n",
       "      <td>161.6</td>\n",
       "      <td>123</td>\n",
       "      <td>27.47</td>\n",
       "      <td>...</td>\n",
       "      <td>103</td>\n",
       "      <td>16.62</td>\n",
       "      <td>254.4</td>\n",
       "      <td>103</td>\n",
       "      <td>11.45</td>\n",
       "      <td>13.7</td>\n",
       "      <td>3</td>\n",
       "      <td>3.70</td>\n",
       "      <td>1</td>\n",
       "      <td>False</td>\n",
       "    </tr>\n",
       "    <tr>\n",
       "      <th>2</th>\n",
       "      <td>NJ</td>\n",
       "      <td>137</td>\n",
       "      <td>415</td>\n",
       "      <td>358-1921</td>\n",
       "      <td>no</td>\n",
       "      <td>no</td>\n",
       "      <td>0</td>\n",
       "      <td>243.4</td>\n",
       "      <td>114</td>\n",
       "      <td>41.38</td>\n",
       "      <td>...</td>\n",
       "      <td>110</td>\n",
       "      <td>10.30</td>\n",
       "      <td>162.6</td>\n",
       "      <td>104</td>\n",
       "      <td>7.32</td>\n",
       "      <td>12.2</td>\n",
       "      <td>5</td>\n",
       "      <td>3.29</td>\n",
       "      <td>0</td>\n",
       "      <td>False</td>\n",
       "    </tr>\n",
       "    <tr>\n",
       "      <th>3</th>\n",
       "      <td>OH</td>\n",
       "      <td>84</td>\n",
       "      <td>408</td>\n",
       "      <td>375-9999</td>\n",
       "      <td>yes</td>\n",
       "      <td>no</td>\n",
       "      <td>0</td>\n",
       "      <td>299.4</td>\n",
       "      <td>71</td>\n",
       "      <td>50.90</td>\n",
       "      <td>...</td>\n",
       "      <td>88</td>\n",
       "      <td>5.26</td>\n",
       "      <td>196.9</td>\n",
       "      <td>89</td>\n",
       "      <td>8.86</td>\n",
       "      <td>6.6</td>\n",
       "      <td>7</td>\n",
       "      <td>1.78</td>\n",
       "      <td>2</td>\n",
       "      <td>False</td>\n",
       "    </tr>\n",
       "    <tr>\n",
       "      <th>4</th>\n",
       "      <td>OK</td>\n",
       "      <td>75</td>\n",
       "      <td>415</td>\n",
       "      <td>330-6626</td>\n",
       "      <td>yes</td>\n",
       "      <td>no</td>\n",
       "      <td>0</td>\n",
       "      <td>166.7</td>\n",
       "      <td>113</td>\n",
       "      <td>28.34</td>\n",
       "      <td>...</td>\n",
       "      <td>122</td>\n",
       "      <td>12.61</td>\n",
       "      <td>186.9</td>\n",
       "      <td>121</td>\n",
       "      <td>8.41</td>\n",
       "      <td>10.1</td>\n",
       "      <td>3</td>\n",
       "      <td>2.73</td>\n",
       "      <td>3</td>\n",
       "      <td>False</td>\n",
       "    </tr>\n",
       "  </tbody>\n",
       "</table>\n",
       "<p>5 rows × 21 columns</p>\n",
       "</div>"
      ],
      "text/plain": [
       "  state  account length  area code phone number international plan  \\\n",
       "0    KS             128        415     382-4657                 no   \n",
       "1    OH             107        415     371-7191                 no   \n",
       "2    NJ             137        415     358-1921                 no   \n",
       "3    OH              84        408     375-9999                yes   \n",
       "4    OK              75        415     330-6626                yes   \n",
       "\n",
       "  voice mail plan  number vmail messages  total day minutes  total day calls  \\\n",
       "0             yes                     25              265.1              110   \n",
       "1             yes                     26              161.6              123   \n",
       "2              no                      0              243.4              114   \n",
       "3              no                      0              299.4               71   \n",
       "4              no                      0              166.7              113   \n",
       "\n",
       "   total day charge  ...  total eve calls  total eve charge  \\\n",
       "0             45.07  ...               99             16.78   \n",
       "1             27.47  ...              103             16.62   \n",
       "2             41.38  ...              110             10.30   \n",
       "3             50.90  ...               88              5.26   \n",
       "4             28.34  ...              122             12.61   \n",
       "\n",
       "   total night minutes  total night calls  total night charge  \\\n",
       "0                244.7                 91               11.01   \n",
       "1                254.4                103               11.45   \n",
       "2                162.6                104                7.32   \n",
       "3                196.9                 89                8.86   \n",
       "4                186.9                121                8.41   \n",
       "\n",
       "   total intl minutes  total intl calls  total intl charge  \\\n",
       "0                10.0                 3               2.70   \n",
       "1                13.7                 3               3.70   \n",
       "2                12.2                 5               3.29   \n",
       "3                 6.6                 7               1.78   \n",
       "4                10.1                 3               2.73   \n",
       "\n",
       "   customer service calls  churn  \n",
       "0                       1  False  \n",
       "1                       1  False  \n",
       "2                       0  False  \n",
       "3                       2  False  \n",
       "4                       3  False  \n",
       "\n",
       "[5 rows x 21 columns]"
      ]
     },
     "execution_count": 140,
     "metadata": {},
     "output_type": "execute_result"
    }
   ],
   "source": [
    "# Load the selected dataset\n",
    "df_og = pd.read_csv('customer_churn.csv')\n",
    "df = df_og.copy()\n",
    "# Take a look at the first five rows\n",
    "df.head()"
   ]
  },
  {
   "cell_type": "markdown",
   "metadata": {},
   "source": [
    "## Exploratory Data Analysis"
   ]
  },
  {
   "cell_type": "markdown",
   "metadata": {},
   "source": [
    "Initial EDA suggests a fairly clean dataset. \n",
    "There appear to be no null values in the data set. However, the column names might make things difficult to deal with later so we will be replacing all spaces with underscores.\n",
    "\n",
    "We will be keeping a majority of the data as almost all of it is related to information about the customer and how they use the service. Only phone number will be dropped in favour of area and phone_code (the first three digits of their number) which may indicate more specific geographic location. \n"
   ]
  },
  {
   "cell_type": "code",
   "execution_count": 141,
   "metadata": {},
   "outputs": [
    {
     "name": "stdout",
     "output_type": "stream",
     "text": [
      "<class 'pandas.core.frame.DataFrame'>\n",
      "RangeIndex: 3333 entries, 0 to 3332\n",
      "Data columns (total 21 columns):\n",
      " #   Column                  Non-Null Count  Dtype  \n",
      "---  ------                  --------------  -----  \n",
      " 0   state                   3333 non-null   object \n",
      " 1   account length          3333 non-null   int64  \n",
      " 2   area code               3333 non-null   int64  \n",
      " 3   phone number            3333 non-null   object \n",
      " 4   international plan      3333 non-null   object \n",
      " 5   voice mail plan         3333 non-null   object \n",
      " 6   number vmail messages   3333 non-null   int64  \n",
      " 7   total day minutes       3333 non-null   float64\n",
      " 8   total day calls         3333 non-null   int64  \n",
      " 9   total day charge        3333 non-null   float64\n",
      " 10  total eve minutes       3333 non-null   float64\n",
      " 11  total eve calls         3333 non-null   int64  \n",
      " 12  total eve charge        3333 non-null   float64\n",
      " 13  total night minutes     3333 non-null   float64\n",
      " 14  total night calls       3333 non-null   int64  \n",
      " 15  total night charge      3333 non-null   float64\n",
      " 16  total intl minutes      3333 non-null   float64\n",
      " 17  total intl calls        3333 non-null   int64  \n",
      " 18  total intl charge       3333 non-null   float64\n",
      " 19  customer service calls  3333 non-null   int64  \n",
      " 20  churn                   3333 non-null   bool   \n",
      "dtypes: bool(1), float64(8), int64(8), object(4)\n",
      "memory usage: 524.2+ KB\n"
     ]
    }
   ],
   "source": [
    "# See datatypes, amount of it and whether there are any null values\n",
    "df.info()"
   ]
  },
  {
   "cell_type": "code",
   "execution_count": 142,
   "metadata": {},
   "outputs": [
    {
     "data": {
      "text/html": [
       "<div>\n",
       "<style scoped>\n",
       "    .dataframe tbody tr th:only-of-type {\n",
       "        vertical-align: middle;\n",
       "    }\n",
       "\n",
       "    .dataframe tbody tr th {\n",
       "        vertical-align: top;\n",
       "    }\n",
       "\n",
       "    .dataframe thead th {\n",
       "        text-align: right;\n",
       "    }\n",
       "</style>\n",
       "<table border=\"1\" class=\"dataframe\">\n",
       "  <thead>\n",
       "    <tr style=\"text-align: right;\">\n",
       "      <th></th>\n",
       "      <th>account_length</th>\n",
       "      <th>area_code</th>\n",
       "      <th>number_vmail_messages</th>\n",
       "      <th>total_day_minutes</th>\n",
       "      <th>total_day_calls</th>\n",
       "      <th>total_day_charge</th>\n",
       "      <th>total_eve_minutes</th>\n",
       "      <th>total_eve_calls</th>\n",
       "      <th>total_eve_charge</th>\n",
       "      <th>total_night_minutes</th>\n",
       "      <th>total_night_calls</th>\n",
       "      <th>total_night_charge</th>\n",
       "      <th>total_intl_minutes</th>\n",
       "      <th>total_intl_calls</th>\n",
       "      <th>total_intl_charge</th>\n",
       "      <th>customer_service_calls</th>\n",
       "    </tr>\n",
       "  </thead>\n",
       "  <tbody>\n",
       "    <tr>\n",
       "      <th>count</th>\n",
       "      <td>3333.000000</td>\n",
       "      <td>3333.000000</td>\n",
       "      <td>3333.000000</td>\n",
       "      <td>3333.000000</td>\n",
       "      <td>3333.000000</td>\n",
       "      <td>3333.000000</td>\n",
       "      <td>3333.000000</td>\n",
       "      <td>3333.000000</td>\n",
       "      <td>3333.000000</td>\n",
       "      <td>3333.000000</td>\n",
       "      <td>3333.000000</td>\n",
       "      <td>3333.000000</td>\n",
       "      <td>3333.000000</td>\n",
       "      <td>3333.000000</td>\n",
       "      <td>3333.000000</td>\n",
       "      <td>3333.000000</td>\n",
       "    </tr>\n",
       "    <tr>\n",
       "      <th>mean</th>\n",
       "      <td>101.064806</td>\n",
       "      <td>437.182418</td>\n",
       "      <td>8.099010</td>\n",
       "      <td>179.775098</td>\n",
       "      <td>100.435644</td>\n",
       "      <td>30.562307</td>\n",
       "      <td>200.980348</td>\n",
       "      <td>100.114311</td>\n",
       "      <td>17.083540</td>\n",
       "      <td>200.872037</td>\n",
       "      <td>100.107711</td>\n",
       "      <td>9.039325</td>\n",
       "      <td>10.237294</td>\n",
       "      <td>4.479448</td>\n",
       "      <td>2.764581</td>\n",
       "      <td>1.562856</td>\n",
       "    </tr>\n",
       "    <tr>\n",
       "      <th>std</th>\n",
       "      <td>39.822106</td>\n",
       "      <td>42.371290</td>\n",
       "      <td>13.688365</td>\n",
       "      <td>54.467389</td>\n",
       "      <td>20.069084</td>\n",
       "      <td>9.259435</td>\n",
       "      <td>50.713844</td>\n",
       "      <td>19.922625</td>\n",
       "      <td>4.310668</td>\n",
       "      <td>50.573847</td>\n",
       "      <td>19.568609</td>\n",
       "      <td>2.275873</td>\n",
       "      <td>2.791840</td>\n",
       "      <td>2.461214</td>\n",
       "      <td>0.753773</td>\n",
       "      <td>1.315491</td>\n",
       "    </tr>\n",
       "    <tr>\n",
       "      <th>min</th>\n",
       "      <td>1.000000</td>\n",
       "      <td>408.000000</td>\n",
       "      <td>0.000000</td>\n",
       "      <td>0.000000</td>\n",
       "      <td>0.000000</td>\n",
       "      <td>0.000000</td>\n",
       "      <td>0.000000</td>\n",
       "      <td>0.000000</td>\n",
       "      <td>0.000000</td>\n",
       "      <td>23.200000</td>\n",
       "      <td>33.000000</td>\n",
       "      <td>1.040000</td>\n",
       "      <td>0.000000</td>\n",
       "      <td>0.000000</td>\n",
       "      <td>0.000000</td>\n",
       "      <td>0.000000</td>\n",
       "    </tr>\n",
       "    <tr>\n",
       "      <th>25%</th>\n",
       "      <td>74.000000</td>\n",
       "      <td>408.000000</td>\n",
       "      <td>0.000000</td>\n",
       "      <td>143.700000</td>\n",
       "      <td>87.000000</td>\n",
       "      <td>24.430000</td>\n",
       "      <td>166.600000</td>\n",
       "      <td>87.000000</td>\n",
       "      <td>14.160000</td>\n",
       "      <td>167.000000</td>\n",
       "      <td>87.000000</td>\n",
       "      <td>7.520000</td>\n",
       "      <td>8.500000</td>\n",
       "      <td>3.000000</td>\n",
       "      <td>2.300000</td>\n",
       "      <td>1.000000</td>\n",
       "    </tr>\n",
       "    <tr>\n",
       "      <th>50%</th>\n",
       "      <td>101.000000</td>\n",
       "      <td>415.000000</td>\n",
       "      <td>0.000000</td>\n",
       "      <td>179.400000</td>\n",
       "      <td>101.000000</td>\n",
       "      <td>30.500000</td>\n",
       "      <td>201.400000</td>\n",
       "      <td>100.000000</td>\n",
       "      <td>17.120000</td>\n",
       "      <td>201.200000</td>\n",
       "      <td>100.000000</td>\n",
       "      <td>9.050000</td>\n",
       "      <td>10.300000</td>\n",
       "      <td>4.000000</td>\n",
       "      <td>2.780000</td>\n",
       "      <td>1.000000</td>\n",
       "    </tr>\n",
       "    <tr>\n",
       "      <th>75%</th>\n",
       "      <td>127.000000</td>\n",
       "      <td>510.000000</td>\n",
       "      <td>20.000000</td>\n",
       "      <td>216.400000</td>\n",
       "      <td>114.000000</td>\n",
       "      <td>36.790000</td>\n",
       "      <td>235.300000</td>\n",
       "      <td>114.000000</td>\n",
       "      <td>20.000000</td>\n",
       "      <td>235.300000</td>\n",
       "      <td>113.000000</td>\n",
       "      <td>10.590000</td>\n",
       "      <td>12.100000</td>\n",
       "      <td>6.000000</td>\n",
       "      <td>3.270000</td>\n",
       "      <td>2.000000</td>\n",
       "    </tr>\n",
       "    <tr>\n",
       "      <th>max</th>\n",
       "      <td>243.000000</td>\n",
       "      <td>510.000000</td>\n",
       "      <td>51.000000</td>\n",
       "      <td>350.800000</td>\n",
       "      <td>165.000000</td>\n",
       "      <td>59.640000</td>\n",
       "      <td>363.700000</td>\n",
       "      <td>170.000000</td>\n",
       "      <td>30.910000</td>\n",
       "      <td>395.000000</td>\n",
       "      <td>175.000000</td>\n",
       "      <td>17.770000</td>\n",
       "      <td>20.000000</td>\n",
       "      <td>20.000000</td>\n",
       "      <td>5.400000</td>\n",
       "      <td>9.000000</td>\n",
       "    </tr>\n",
       "  </tbody>\n",
       "</table>\n",
       "</div>"
      ],
      "text/plain": [
       "       account_length    area_code  number_vmail_messages  total_day_minutes  \\\n",
       "count     3333.000000  3333.000000            3333.000000        3333.000000   \n",
       "mean       101.064806   437.182418               8.099010         179.775098   \n",
       "std         39.822106    42.371290              13.688365          54.467389   \n",
       "min          1.000000   408.000000               0.000000           0.000000   \n",
       "25%         74.000000   408.000000               0.000000         143.700000   \n",
       "50%        101.000000   415.000000               0.000000         179.400000   \n",
       "75%        127.000000   510.000000              20.000000         216.400000   \n",
       "max        243.000000   510.000000              51.000000         350.800000   \n",
       "\n",
       "       total_day_calls  total_day_charge  total_eve_minutes  total_eve_calls  \\\n",
       "count      3333.000000       3333.000000        3333.000000      3333.000000   \n",
       "mean        100.435644         30.562307         200.980348       100.114311   \n",
       "std          20.069084          9.259435          50.713844        19.922625   \n",
       "min           0.000000          0.000000           0.000000         0.000000   \n",
       "25%          87.000000         24.430000         166.600000        87.000000   \n",
       "50%         101.000000         30.500000         201.400000       100.000000   \n",
       "75%         114.000000         36.790000         235.300000       114.000000   \n",
       "max         165.000000         59.640000         363.700000       170.000000   \n",
       "\n",
       "       total_eve_charge  total_night_minutes  total_night_calls  \\\n",
       "count       3333.000000          3333.000000        3333.000000   \n",
       "mean          17.083540           200.872037         100.107711   \n",
       "std            4.310668            50.573847          19.568609   \n",
       "min            0.000000            23.200000          33.000000   \n",
       "25%           14.160000           167.000000          87.000000   \n",
       "50%           17.120000           201.200000         100.000000   \n",
       "75%           20.000000           235.300000         113.000000   \n",
       "max           30.910000           395.000000         175.000000   \n",
       "\n",
       "       total_night_charge  total_intl_minutes  total_intl_calls  \\\n",
       "count         3333.000000         3333.000000       3333.000000   \n",
       "mean             9.039325           10.237294          4.479448   \n",
       "std              2.275873            2.791840          2.461214   \n",
       "min              1.040000            0.000000          0.000000   \n",
       "25%              7.520000            8.500000          3.000000   \n",
       "50%              9.050000           10.300000          4.000000   \n",
       "75%             10.590000           12.100000          6.000000   \n",
       "max             17.770000           20.000000         20.000000   \n",
       "\n",
       "       total_intl_charge  customer_service_calls  \n",
       "count        3333.000000             3333.000000  \n",
       "mean            2.764581                1.562856  \n",
       "std             0.753773                1.315491  \n",
       "min             0.000000                0.000000  \n",
       "25%             2.300000                1.000000  \n",
       "50%             2.780000                1.000000  \n",
       "75%             3.270000                2.000000  \n",
       "max             5.400000                9.000000  "
      ]
     },
     "execution_count": 142,
     "metadata": {},
     "output_type": "execute_result"
    }
   ],
   "source": [
    "# Replace spaces with underscores \n",
    "df.columns = df.columns.str.replace(' ', '_')\n",
    "\n",
    "# Summarize code\n",
    "df.describe()"
   ]
  },
  {
   "cell_type": "code",
   "execution_count": 143,
   "metadata": {},
   "outputs": [
    {
     "name": "stdout",
     "output_type": "stream",
     "text": [
      "state: 51\n",
      "account_length: 212\n",
      "area_code: 3\n",
      "phone_number: 3333\n",
      "international_plan: 2\n",
      "voice_mail_plan: 2\n",
      "number_vmail_messages: 46\n",
      "total_day_minutes: 1667\n",
      "total_day_calls: 119\n",
      "total_day_charge: 1667\n",
      "total_eve_minutes: 1611\n",
      "total_eve_calls: 123\n",
      "total_eve_charge: 1440\n",
      "total_night_minutes: 1591\n",
      "total_night_calls: 120\n",
      "total_night_charge: 933\n",
      "total_intl_minutes: 162\n",
      "total_intl_calls: 21\n",
      "total_intl_charge: 162\n",
      "customer_service_calls: 10\n",
      "churn: 2\n"
     ]
    }
   ],
   "source": [
    "for i in df.columns:\n",
    "    print(f\"{i}: {df[i].nunique()}\")"
   ]
  },
  {
   "cell_type": "markdown",
   "metadata": {},
   "source": [
    "**Phone Numbers**\n",
    "\n",
    "If there is any correlation between a customers full phone number and their likelihood to churn, this will likely be quite spurious! To avoid this we will cut each phone number down to the first three numbers. Because of the lower number of unique three digit prefixes (96 in total) and their consistent strucutre (they all range from 327 and 422) to  it may indicate an area dialing code which actually prove useful."
   ]
  },
  {
   "cell_type": "code",
   "execution_count": 144,
   "metadata": {},
   "outputs": [
    {
     "data": {
      "text/plain": [
       "<matplotlib.axes._subplots.AxesSubplot at 0x1b4a2044908>"
      ]
     },
     "execution_count": 144,
     "metadata": {},
     "output_type": "execute_result"
    },
    {
     "data": {
      "image/png": "[encoded data removed]",
      "text/plain": [
       "<Figure size 432x288 with 1 Axes>"
      ]
     },
     "metadata": {},
     "output_type": "display_data"
    }
   ],
   "source": [
    "df['phone_number'] = df['phone_number'].map(lambda x: int(x[:3]))\n",
    "sns.distplot(df['phone_number'])"
   ]
  },
  {
   "cell_type": "markdown",
   "metadata": {},
   "source": [
    "**Distribution**\n",
    "\n",
    "Data seems well distributed!"
   ]
  },
  {
   "cell_type": "code",
   "execution_count": 145,
   "metadata": {},
   "outputs": [
    {
     "data": {
      "image/png": "[encoded data removed]",
      "text/plain": [
       "<Figure size 1152x1152 with 20 Axes>"
      ]
     },
     "metadata": {},
     "output_type": "display_data"
    }
   ],
   "source": [
    "# Identify numerical columns\n",
    "numeric_cols = []\n",
    "for i in df.columns:\n",
    "    if df[i].dtype == 'int64' or df[i].dtype == 'float64':\n",
    "        numeric_cols.append(i)\n",
    "numeric_cols.append('churn')\n",
    "# Define the number of rows and columns you want\n",
    "n_rows=4\n",
    "n_cols=5\n",
    "# Create the subplots\n",
    "fig, axes = plt.subplots(nrows=n_rows, ncols=n_cols, figsize =(16,16))\n",
    "\n",
    "for i, column in enumerate(numeric_cols):\n",
    "    try:\n",
    "        sns.distplot(df[column],ax=axes[i//n_cols,i%n_cols])\n",
    "    except:\n",
    "        print(\"failed\", \" \", column)"
   ]
  },
  {
   "cell_type": "markdown",
   "metadata": {},
   "source": [
    "**Feature Engineering**\n",
    "\n",
    "Creating columns that add up charge, calls and minutes rather than keeping them split by the time of day."
   ]
  },
  {
   "cell_type": "code",
   "execution_count": 146,
   "metadata": {},
   "outputs": [],
   "source": [
    "# Adding Totals\n",
    "df['total_minutes'] = (df['total_day_minutes'] + df['total_eve_minutes'] \n",
    "                        + df['total_night_minutes'] + df['total_intl_minutes'])\n",
    "df['total_calls'] = (df['total_day_calls'] + df['total_eve_calls']\n",
    "                        + df['total_night_calls'] + df['total_intl_calls'])\n",
    "df['total_charge'] = (df['total_day_charge'] + df['total_eve_charge']\n",
    "                        + df['total_night_charge'] + df['total_intl_charge'])\n",
    "\n",
    "# Adding Average Call Length\n",
    "df['average_call_length'] = round(df['total_minutes'] / df['total_calls'])\n",
    "\n",
    "# Adding Average Charge per Minute\n",
    "df['average_charge'] = round(df['total_charge'] / df['total_minutes'], 2)\n",
    "\n",
    "# Rearrange column names\n",
    "df = df[['state', 'account_length', 'area_code', 'phone_number',\n",
    "       'international_plan', 'voice_mail_plan', 'number_vmail_messages',\n",
    "       'total_day_minutes', 'total_day_calls', 'total_day_charge',\n",
    "       'total_eve_minutes', 'total_eve_calls', 'total_eve_charge',\n",
    "       'total_night_minutes', 'total_night_calls', 'total_night_charge',\n",
    "       'total_intl_minutes', 'total_intl_calls', 'total_intl_charge',\n",
    "       'total_minutes', 'total_charge', 'total_calls', \n",
    "       'average_call_length', 'average_charge', \n",
    "       'customer_service_calls', 'churn']]"
   ]
  },
  {
   "cell_type": "markdown",
   "metadata": {},
   "source": [
    "**Normalize**"
   ]
  },
  {
   "cell_type": "code",
   "execution_count": 147,
   "metadata": {},
   "outputs": [],
   "source": [
    "# Identify numerical columns\n",
    "normalize_cols = []\n",
    "for i in df.columns:\n",
    "    if 'total' in i:\n",
    "        normalize_cols.append(i)\n",
    "    elif 'average' in i:\n",
    "        normalize_cols.append(i)\n",
    "normalize_cols.append('number_vmail_messages')\n",
    "\n",
    "# Create a function to normalize variables\n",
    "def normalize(variables):\n",
    "    for i in variables:\n",
    "        df[i] = ((df[i]-df[i].min())/(df[i].max()-df[i].min()))\n",
    "\n",
    "# Use the function\n",
    "normalize(normalize_cols)"
   ]
  },
  {
   "cell_type": "code",
   "execution_count": 148,
   "metadata": {},
   "outputs": [
    {
     "data": {
      "text/html": [
       "<div>\n",
       "<style scoped>\n",
       "    .dataframe tbody tr th:only-of-type {\n",
       "        vertical-align: middle;\n",
       "    }\n",
       "\n",
       "    .dataframe tbody tr th {\n",
       "        vertical-align: top;\n",
       "    }\n",
       "\n",
       "    .dataframe thead th {\n",
       "        text-align: right;\n",
       "    }\n",
       "</style>\n",
       "<table border=\"1\" class=\"dataframe\">\n",
       "  <thead>\n",
       "    <tr style=\"text-align: right;\">\n",
       "      <th></th>\n",
       "      <th>account_length</th>\n",
       "      <th>area_code</th>\n",
       "      <th>phone_number</th>\n",
       "      <th>number_vmail_messages</th>\n",
       "      <th>total_day_minutes</th>\n",
       "      <th>total_day_calls</th>\n",
       "      <th>total_day_charge</th>\n",
       "      <th>total_eve_minutes</th>\n",
       "      <th>total_eve_calls</th>\n",
       "      <th>total_eve_charge</th>\n",
       "      <th>...</th>\n",
       "      <th>total_night_charge</th>\n",
       "      <th>total_intl_minutes</th>\n",
       "      <th>total_intl_calls</th>\n",
       "      <th>total_intl_charge</th>\n",
       "      <th>total_minutes</th>\n",
       "      <th>total_charge</th>\n",
       "      <th>total_calls</th>\n",
       "      <th>average_call_length</th>\n",
       "      <th>average_charge</th>\n",
       "      <th>customer_service_calls</th>\n",
       "    </tr>\n",
       "  </thead>\n",
       "  <tbody>\n",
       "    <tr>\n",
       "      <th>count</th>\n",
       "      <td>3333.000000</td>\n",
       "      <td>3333.000000</td>\n",
       "      <td>3333.000000</td>\n",
       "      <td>3333.000000</td>\n",
       "      <td>3333.000000</td>\n",
       "      <td>3333.000000</td>\n",
       "      <td>3333.000000</td>\n",
       "      <td>3333.000000</td>\n",
       "      <td>3333.000000</td>\n",
       "      <td>3333.000000</td>\n",
       "      <td>...</td>\n",
       "      <td>3333.000000</td>\n",
       "      <td>3333.000000</td>\n",
       "      <td>3333.000000</td>\n",
       "      <td>3333.000000</td>\n",
       "      <td>3333.000000</td>\n",
       "      <td>3333.000000</td>\n",
       "      <td>3333.000000</td>\n",
       "      <td>3333.000000</td>\n",
       "      <td>3333.000000</td>\n",
       "      <td>3333.000000</td>\n",
       "    </tr>\n",
       "    <tr>\n",
       "      <th>mean</th>\n",
       "      <td>101.064806</td>\n",
       "      <td>437.182418</td>\n",
       "      <td>374.074407</td>\n",
       "      <td>0.158804</td>\n",
       "      <td>0.512472</td>\n",
       "      <td>0.608701</td>\n",
       "      <td>0.512446</td>\n",
       "      <td>0.552599</td>\n",
       "      <td>0.588908</td>\n",
       "      <td>0.552687</td>\n",
       "      <td>...</td>\n",
       "      <td>0.478143</td>\n",
       "      <td>0.511865</td>\n",
       "      <td>0.223972</td>\n",
       "      <td>0.511960</td>\n",
       "      <td>0.512011</td>\n",
       "      <td>0.498767</td>\n",
       "      <td>0.507276</td>\n",
       "      <td>0.329133</td>\n",
       "      <td>0.506451</td>\n",
       "      <td>1.562856</td>\n",
       "    </tr>\n",
       "    <tr>\n",
       "      <th>std</th>\n",
       "      <td>39.822106</td>\n",
       "      <td>42.371290</td>\n",
       "      <td>27.467320</td>\n",
       "      <td>0.268399</td>\n",
       "      <td>0.155266</td>\n",
       "      <td>0.121631</td>\n",
       "      <td>0.155255</td>\n",
       "      <td>0.139439</td>\n",
       "      <td>0.117192</td>\n",
       "      <td>0.139459</td>\n",
       "      <td>...</td>\n",
       "      <td>0.136035</td>\n",
       "      <td>0.139592</td>\n",
       "      <td>0.123061</td>\n",
       "      <td>0.139588</td>\n",
       "      <td>0.149749</td>\n",
       "      <td>0.143434</td>\n",
       "      <td>0.153103</td>\n",
       "      <td>0.143262</td>\n",
       "      <td>0.148073</td>\n",
       "      <td>1.315491</td>\n",
       "    </tr>\n",
       "    <tr>\n",
       "      <th>min</th>\n",
       "      <td>1.000000</td>\n",
       "      <td>408.000000</td>\n",
       "      <td>327.000000</td>\n",
       "      <td>0.000000</td>\n",
       "      <td>0.000000</td>\n",
       "      <td>0.000000</td>\n",
       "      <td>0.000000</td>\n",
       "      <td>0.000000</td>\n",
       "      <td>0.000000</td>\n",
       "      <td>0.000000</td>\n",
       "      <td>...</td>\n",
       "      <td>0.000000</td>\n",
       "      <td>0.000000</td>\n",
       "      <td>0.000000</td>\n",
       "      <td>0.000000</td>\n",
       "      <td>0.000000</td>\n",
       "      <td>0.000000</td>\n",
       "      <td>0.000000</td>\n",
       "      <td>0.000000</td>\n",
       "      <td>0.000000</td>\n",
       "      <td>0.000000</td>\n",
       "    </tr>\n",
       "    <tr>\n",
       "      <th>25%</th>\n",
       "      <td>74.000000</td>\n",
       "      <td>408.000000</td>\n",
       "      <td>350.000000</td>\n",
       "      <td>0.000000</td>\n",
       "      <td>0.409635</td>\n",
       "      <td>0.527273</td>\n",
       "      <td>0.409624</td>\n",
       "      <td>0.458070</td>\n",
       "      <td>0.511765</td>\n",
       "      <td>0.458104</td>\n",
       "      <td>...</td>\n",
       "      <td>0.387328</td>\n",
       "      <td>0.425000</td>\n",
       "      <td>0.150000</td>\n",
       "      <td>0.425926</td>\n",
       "      <td>0.411520</td>\n",
       "      <td>0.402213</td>\n",
       "      <td>0.404444</td>\n",
       "      <td>0.333333</td>\n",
       "      <td>0.333333</td>\n",
       "      <td>1.000000</td>\n",
       "    </tr>\n",
       "    <tr>\n",
       "      <th>50%</th>\n",
       "      <td>101.000000</td>\n",
       "      <td>415.000000</td>\n",
       "      <td>374.000000</td>\n",
       "      <td>0.000000</td>\n",
       "      <td>0.511403</td>\n",
       "      <td>0.612121</td>\n",
       "      <td>0.511402</td>\n",
       "      <td>0.553753</td>\n",
       "      <td>0.588235</td>\n",
       "      <td>0.553866</td>\n",
       "      <td>...</td>\n",
       "      <td>0.478781</td>\n",
       "      <td>0.515000</td>\n",
       "      <td>0.200000</td>\n",
       "      <td>0.514815</td>\n",
       "      <td>0.514899</td>\n",
       "      <td>0.499044</td>\n",
       "      <td>0.506667</td>\n",
       "      <td>0.333333</td>\n",
       "      <td>0.500000</td>\n",
       "      <td>1.000000</td>\n",
       "    </tr>\n",
       "    <tr>\n",
       "      <th>75%</th>\n",
       "      <td>127.000000</td>\n",
       "      <td>510.000000</td>\n",
       "      <td>398.000000</td>\n",
       "      <td>0.392157</td>\n",
       "      <td>0.616876</td>\n",
       "      <td>0.690909</td>\n",
       "      <td>0.616868</td>\n",
       "      <td>0.646962</td>\n",
       "      <td>0.670588</td>\n",
       "      <td>0.647040</td>\n",
       "      <td>...</td>\n",
       "      <td>0.570831</td>\n",
       "      <td>0.605000</td>\n",
       "      <td>0.300000</td>\n",
       "      <td>0.605556</td>\n",
       "      <td>0.612785</td>\n",
       "      <td>0.594783</td>\n",
       "      <td>0.608889</td>\n",
       "      <td>0.333333</td>\n",
       "      <td>0.666667</td>\n",
       "      <td>2.000000</td>\n",
       "    </tr>\n",
       "    <tr>\n",
       "      <th>max</th>\n",
       "      <td>243.000000</td>\n",
       "      <td>510.000000</td>\n",
       "      <td>422.000000</td>\n",
       "      <td>1.000000</td>\n",
       "      <td>1.000000</td>\n",
       "      <td>1.000000</td>\n",
       "      <td>1.000000</td>\n",
       "      <td>1.000000</td>\n",
       "      <td>1.000000</td>\n",
       "      <td>1.000000</td>\n",
       "      <td>...</td>\n",
       "      <td>1.000000</td>\n",
       "      <td>1.000000</td>\n",
       "      <td>1.000000</td>\n",
       "      <td>1.000000</td>\n",
       "      <td>1.000000</td>\n",
       "      <td>1.000000</td>\n",
       "      <td>1.000000</td>\n",
       "      <td>1.000000</td>\n",
       "      <td>1.000000</td>\n",
       "      <td>9.000000</td>\n",
       "    </tr>\n",
       "  </tbody>\n",
       "</table>\n",
       "<p>8 rows × 22 columns</p>\n",
       "</div>"
      ],
      "text/plain": [
       "       account_length    area_code  phone_number  number_vmail_messages  \\\n",
       "count     3333.000000  3333.000000   3333.000000            3333.000000   \n",
       "mean       101.064806   437.182418    374.074407               0.158804   \n",
       "std         39.822106    42.371290     27.467320               0.268399   \n",
       "min          1.000000   408.000000    327.000000               0.000000   \n",
       "25%         74.000000   408.000000    350.000000               0.000000   \n",
       "50%        101.000000   415.000000    374.000000               0.000000   \n",
       "75%        127.000000   510.000000    398.000000               0.392157   \n",
       "max        243.000000   510.000000    422.000000               1.000000   \n",
       "\n",
       "       total_day_minutes  total_day_calls  total_day_charge  \\\n",
       "count        3333.000000      3333.000000       3333.000000   \n",
       "mean            0.512472         0.608701          0.512446   \n",
       "std             0.155266         0.121631          0.155255   \n",
       "min             0.000000         0.000000          0.000000   \n",
       "25%             0.409635         0.527273          0.409624   \n",
       "50%             0.511403         0.612121          0.511402   \n",
       "75%             0.616876         0.690909          0.616868   \n",
       "max             1.000000         1.000000          1.000000   \n",
       "\n",
       "       total_eve_minutes  total_eve_calls  total_eve_charge  ...  \\\n",
       "count        3333.000000      3333.000000       3333.000000  ...   \n",
       "mean            0.552599         0.588908          0.552687  ...   \n",
       "std             0.139439         0.117192          0.139459  ...   \n",
       "min             0.000000         0.000000          0.000000  ...   \n",
       "25%             0.458070         0.511765          0.458104  ...   \n",
       "50%             0.553753         0.588235          0.553866  ...   \n",
       "75%             0.646962         0.670588          0.647040  ...   \n",
       "max             1.000000         1.000000          1.000000  ...   \n",
       "\n",
       "       total_night_charge  total_intl_minutes  total_intl_calls  \\\n",
       "count         3333.000000         3333.000000       3333.000000   \n",
       "mean             0.478143            0.511865          0.223972   \n",
       "std              0.136035            0.139592          0.123061   \n",
       "min              0.000000            0.000000          0.000000   \n",
       "25%              0.387328            0.425000          0.150000   \n",
       "50%              0.478781            0.515000          0.200000   \n",
       "75%              0.570831            0.605000          0.300000   \n",
       "max              1.000000            1.000000          1.000000   \n",
       "\n",
       "       total_intl_charge  total_minutes  total_charge  total_calls  \\\n",
       "count        3333.000000    3333.000000   3333.000000  3333.000000   \n",
       "mean            0.511960       0.512011      0.498767     0.507276   \n",
       "std             0.139588       0.149749      0.143434     0.153103   \n",
       "min             0.000000       0.000000      0.000000     0.000000   \n",
       "25%             0.425926       0.411520      0.402213     0.404444   \n",
       "50%             0.514815       0.514899      0.499044     0.506667   \n",
       "75%             0.605556       0.612785      0.594783     0.608889   \n",
       "max             1.000000       1.000000      1.000000     1.000000   \n",
       "\n",
       "       average_call_length  average_charge  customer_service_calls  \n",
       "count          3333.000000     3333.000000             3333.000000  \n",
       "mean              0.329133        0.506451                1.562856  \n",
       "std               0.143262        0.148073                1.315491  \n",
       "min               0.000000        0.000000                0.000000  \n",
       "25%               0.333333        0.333333                1.000000  \n",
       "50%               0.333333        0.500000                1.000000  \n",
       "75%               0.333333        0.666667                2.000000  \n",
       "max               1.000000        1.000000                9.000000  \n",
       "\n",
       "[8 rows x 22 columns]"
      ]
     },
     "execution_count": 148,
     "metadata": {},
     "output_type": "execute_result"
    }
   ],
   "source": [
    "df.describe()"
   ]
  },
  {
   "cell_type": "markdown",
   "metadata": {},
   "source": [
    "### Explore\n"
   ]
  },
  {
   "cell_type": "code",
   "execution_count": 149,
   "metadata": {},
   "outputs": [
    {
     "name": "stdout",
     "output_type": "stream",
     "text": [
      "False    2850\n",
      "True      483\n",
      "Name: churn, dtype: int64\n",
      "Percent Churned:\n",
      "14.49%\n"
     ]
    },
    {
     "data": {
      "image/png": "[encoded data removed]",
      "text/plain": [
       "<Figure size 432x288 with 1 Axes>"
      ]
     },
     "metadata": {},
     "output_type": "display_data"
    }
   ],
   "source": [
    "# What portion of users churned\n",
    "y = df[\"churn\"].value_counts()\n",
    "sns.barplot(y.index, y.values)\n",
    "print(y)\n",
    "print(\"Percent Churned:\")\n",
    "print(f\"{round(y[1]/(y[0]+y[1])*100,2)}%\")"
   ]
  },
  {
   "cell_type": "code",
   "execution_count": 150,
   "metadata": {},
   "outputs": [
    {
     "data": {
      "text/plain": [
       "<matplotlib.axes._subplots.AxesSubplot at 0x1b49d79dcc8>"
      ]
     },
     "execution_count": 150,
     "metadata": {},
     "output_type": "execute_result"
    },
    {
     "data": {
      "image/png": "[encoded data removed]",
      "text/plain": [
       "<Figure size 2160x720 with 1 Axes>"
      ]
     },
     "metadata": {},
     "output_type": "display_data"
    }
   ],
   "source": [
    "df.groupby([\"state\", \"churn\"]).size().unstack().plot(kind='bar', stacked=True, figsize=(30,10))"
   ]
  },
  {
   "cell_type": "code",
   "execution_count": 151,
   "metadata": {},
   "outputs": [
    {
     "data": {
      "text/plain": [
       "<matplotlib.axes._subplots.AxesSubplot at 0x1b4a3d40f48>"
      ]
     },
     "execution_count": 151,
     "metadata": {},
     "output_type": "execute_result"
    },
    {
     "data": {
      "image/png": "[encoded data removed]",
      "text/plain": [
       "<Figure size 864x360 with 2 Axes>"
      ]
     },
     "metadata": {},
     "output_type": "display_data"
    }
   ],
   "source": [
    "fig, axes = plt.subplots(nrows=1, ncols=2, figsize =(12,5))\n",
    "df.groupby([\"voice_mail_plan\", \"churn\"]).size().unstack().plot(kind='bar', stacked=True, ax = axes[0])\n",
    "df.groupby([\"international_plan\", \"churn\"]).size().unstack().plot(kind='bar', stacked=True, ax = axes[1])"
   ]
  },
  {
   "cell_type": "markdown",
   "metadata": {},
   "source": [
    "Multicollinearity is not important for us in this instance, because it primarily affects Linear Regression Models. Code set in markdown below. \n",
    "\n",
    "```\n",
    "features = [i for i in df.columns]\n",
    "\n",
    "mask = np.zeros_like(df[features].corr(), dtype=np.bool) \n",
    "mask[np.triu_indices_from(mask)] = True \n",
    "\n",
    "f, ax = plt.subplots(figsize=(16, 12))\n",
    "plt.title('Pearson Correlation Matrix',fontsize=25)\n",
    "\n",
    "sns.heatmap(df[features].corr(),annot=True, cmap='BuGn', \n",
    "            linecolor=\"w\", mask = mask)```"
   ]
  },
  {
   "cell_type": "markdown",
   "metadata": {},
   "source": [
    "**Booleans and Categoricals**\n",
    "\n",
    "To make life easier everything in the df should be in either int or float format. To that end we will encode all categoricals using LabelEncoder(). \n"
   ]
  },
  {
   "cell_type": "code",
   "execution_count": 152,
   "metadata": {},
   "outputs": [
    {
     "data": {
      "text/html": [
       "<div>\n",
       "<style scoped>\n",
       "    .dataframe tbody tr th:only-of-type {\n",
       "        vertical-align: middle;\n",
       "    }\n",
       "\n",
       "    .dataframe tbody tr th {\n",
       "        vertical-align: top;\n",
       "    }\n",
       "\n",
       "    .dataframe thead th {\n",
       "        text-align: right;\n",
       "    }\n",
       "</style>\n",
       "<table border=\"1\" class=\"dataframe\">\n",
       "  <thead>\n",
       "    <tr style=\"text-align: right;\">\n",
       "      <th></th>\n",
       "      <th>account_length</th>\n",
       "      <th>area_code</th>\n",
       "      <th>phone_number</th>\n",
       "      <th>international_plan</th>\n",
       "      <th>voice_mail_plan</th>\n",
       "      <th>number_vmail_messages</th>\n",
       "      <th>total_day_minutes</th>\n",
       "      <th>total_day_calls</th>\n",
       "      <th>total_day_charge</th>\n",
       "      <th>total_eve_minutes</th>\n",
       "      <th>...</th>\n",
       "      <th>state_SD</th>\n",
       "      <th>state_TN</th>\n",
       "      <th>state_TX</th>\n",
       "      <th>state_UT</th>\n",
       "      <th>state_VA</th>\n",
       "      <th>state_VT</th>\n",
       "      <th>state_WA</th>\n",
       "      <th>state_WI</th>\n",
       "      <th>state_WV</th>\n",
       "      <th>state_WY</th>\n",
       "    </tr>\n",
       "  </thead>\n",
       "  <tbody>\n",
       "    <tr>\n",
       "      <th>0</th>\n",
       "      <td>128</td>\n",
       "      <td>415</td>\n",
       "      <td>382</td>\n",
       "      <td>0</td>\n",
       "      <td>1</td>\n",
       "      <td>0.490196</td>\n",
       "      <td>0.755701</td>\n",
       "      <td>0.666667</td>\n",
       "      <td>0.755701</td>\n",
       "      <td>0.542755</td>\n",
       "      <td>...</td>\n",
       "      <td>0</td>\n",
       "      <td>0</td>\n",
       "      <td>0</td>\n",
       "      <td>0</td>\n",
       "      <td>0</td>\n",
       "      <td>0</td>\n",
       "      <td>0</td>\n",
       "      <td>0</td>\n",
       "      <td>0</td>\n",
       "      <td>0</td>\n",
       "    </tr>\n",
       "    <tr>\n",
       "      <th>1</th>\n",
       "      <td>107</td>\n",
       "      <td>415</td>\n",
       "      <td>371</td>\n",
       "      <td>0</td>\n",
       "      <td>1</td>\n",
       "      <td>0.509804</td>\n",
       "      <td>0.460661</td>\n",
       "      <td>0.745455</td>\n",
       "      <td>0.460597</td>\n",
       "      <td>0.537531</td>\n",
       "      <td>...</td>\n",
       "      <td>0</td>\n",
       "      <td>0</td>\n",
       "      <td>0</td>\n",
       "      <td>0</td>\n",
       "      <td>0</td>\n",
       "      <td>0</td>\n",
       "      <td>0</td>\n",
       "      <td>0</td>\n",
       "      <td>0</td>\n",
       "      <td>0</td>\n",
       "    </tr>\n",
       "    <tr>\n",
       "      <th>2</th>\n",
       "      <td>137</td>\n",
       "      <td>415</td>\n",
       "      <td>358</td>\n",
       "      <td>0</td>\n",
       "      <td>0</td>\n",
       "      <td>0.000000</td>\n",
       "      <td>0.693843</td>\n",
       "      <td>0.690909</td>\n",
       "      <td>0.693830</td>\n",
       "      <td>0.333242</td>\n",
       "      <td>...</td>\n",
       "      <td>0</td>\n",
       "      <td>0</td>\n",
       "      <td>0</td>\n",
       "      <td>0</td>\n",
       "      <td>0</td>\n",
       "      <td>0</td>\n",
       "      <td>0</td>\n",
       "      <td>0</td>\n",
       "      <td>0</td>\n",
       "      <td>0</td>\n",
       "    </tr>\n",
       "    <tr>\n",
       "      <th>3</th>\n",
       "      <td>84</td>\n",
       "      <td>408</td>\n",
       "      <td>375</td>\n",
       "      <td>1</td>\n",
       "      <td>0</td>\n",
       "      <td>0.000000</td>\n",
       "      <td>0.853478</td>\n",
       "      <td>0.430303</td>\n",
       "      <td>0.853454</td>\n",
       "      <td>0.170195</td>\n",
       "      <td>...</td>\n",
       "      <td>0</td>\n",
       "      <td>0</td>\n",
       "      <td>0</td>\n",
       "      <td>0</td>\n",
       "      <td>0</td>\n",
       "      <td>0</td>\n",
       "      <td>0</td>\n",
       "      <td>0</td>\n",
       "      <td>0</td>\n",
       "      <td>0</td>\n",
       "    </tr>\n",
       "    <tr>\n",
       "      <th>4</th>\n",
       "      <td>75</td>\n",
       "      <td>415</td>\n",
       "      <td>330</td>\n",
       "      <td>1</td>\n",
       "      <td>0</td>\n",
       "      <td>0.000000</td>\n",
       "      <td>0.475200</td>\n",
       "      <td>0.684848</td>\n",
       "      <td>0.475184</td>\n",
       "      <td>0.407754</td>\n",
       "      <td>...</td>\n",
       "      <td>0</td>\n",
       "      <td>0</td>\n",
       "      <td>0</td>\n",
       "      <td>0</td>\n",
       "      <td>0</td>\n",
       "      <td>0</td>\n",
       "      <td>0</td>\n",
       "      <td>0</td>\n",
       "      <td>0</td>\n",
       "      <td>0</td>\n",
       "    </tr>\n",
       "  </tbody>\n",
       "</table>\n",
       "<p>5 rows × 75 columns</p>\n",
       "</div>"
      ],
      "text/plain": [
       "   account_length  area_code  phone_number  international_plan  \\\n",
       "0             128        415           382                   0   \n",
       "1             107        415           371                   0   \n",
       "2             137        415           358                   0   \n",
       "3              84        408           375                   1   \n",
       "4              75        415           330                   1   \n",
       "\n",
       "   voice_mail_plan  number_vmail_messages  total_day_minutes  total_day_calls  \\\n",
       "0                1               0.490196           0.755701         0.666667   \n",
       "1                1               0.509804           0.460661         0.745455   \n",
       "2                0               0.000000           0.693843         0.690909   \n",
       "3                0               0.000000           0.853478         0.430303   \n",
       "4                0               0.000000           0.475200         0.684848   \n",
       "\n",
       "   total_day_charge  total_eve_minutes  ...  state_SD  state_TN  state_TX  \\\n",
       "0          0.755701           0.542755  ...         0         0         0   \n",
       "1          0.460597           0.537531  ...         0         0         0   \n",
       "2          0.693830           0.333242  ...         0         0         0   \n",
       "3          0.853454           0.170195  ...         0         0         0   \n",
       "4          0.475184           0.407754  ...         0         0         0   \n",
       "\n",
       "   state_UT  state_VA  state_VT  state_WA  state_WI  state_WV  state_WY  \n",
       "0         0         0         0         0         0         0         0  \n",
       "1         0         0         0         0         0         0         0  \n",
       "2         0         0         0         0         0         0         0  \n",
       "3         0         0         0         0         0         0         0  \n",
       "4         0         0         0         0         0         0         0  \n",
       "\n",
       "[5 rows x 75 columns]"
      ]
     },
     "execution_count": 152,
     "metadata": {},
     "output_type": "execute_result"
    }
   ],
   "source": [
    "# Use LabelEncoder to turn categoricals into numbers\n",
    "label_encoder = preprocessing.LabelEncoder()\n",
    "\n",
    "# Label Encode boolean variables \n",
    "df['international_plan'] = label_encoder.fit_transform(df['international_plan'])\n",
    "df['voice_mail_plan'] = label_encoder.fit_transform(df['voice_mail_plan'])\n",
    "df['churn'] = label_encoder.fit_transform(df['churn'])\n",
    "\n",
    "# One Hot Encoding\n",
    "df = pd.get_dummies(df, drop_first = True)\n",
    "\n",
    "df.head()"
   ]
  },
  {
   "cell_type": "code",
   "execution_count": 154,
   "metadata": {},
   "outputs": [],
   "source": [
    "# Save the cleaned file\n",
    "df.to_csv('cleaned_customer_churn.csv')"
   ]
  },
  {
   "cell_type": "markdown",
   "metadata": {},
   "source": [
    "## Model\n",
    "\n",
    "We will build several different models to try and achieve the highest accuracy possible. The following will be used:\n",
    "\n",
    "- **Logistic Regression**\n",
    "- **Decision Tree**\n",
    "- **Random Forest**\n",
    "- **XGBoost**\n",
    "\n",
    "To try and achieve a sweet-spot model, we will be using GridSearchCV to run through mutliple hyperparameters for each model to try and optimize the model. "
   ]
  },
  {
   "cell_type": "code",
   "execution_count": 3,
   "metadata": {},
   "outputs": [
    {
     "data": {
      "text/html": [
       "<div>\n",
       "<style scoped>\n",
       "    .dataframe tbody tr th:only-of-type {\n",
       "        vertical-align: middle;\n",
       "    }\n",
       "\n",
       "    .dataframe tbody tr th {\n",
       "        vertical-align: top;\n",
       "    }\n",
       "\n",
       "    .dataframe thead th {\n",
       "        text-align: right;\n",
       "    }\n",
       "</style>\n",
       "<table border=\"1\" class=\"dataframe\">\n",
       "  <thead>\n",
       "    <tr style=\"text-align: right;\">\n",
       "      <th></th>\n",
       "      <th>Unnamed: 0</th>\n",
       "      <th>account_length</th>\n",
       "      <th>area_code</th>\n",
       "      <th>phone_number</th>\n",
       "      <th>international_plan</th>\n",
       "      <th>voice_mail_plan</th>\n",
       "      <th>number_vmail_messages</th>\n",
       "      <th>total_day_minutes</th>\n",
       "      <th>total_day_calls</th>\n",
       "      <th>total_day_charge</th>\n",
       "      <th>...</th>\n",
       "      <th>state_SD</th>\n",
       "      <th>state_TN</th>\n",
       "      <th>state_TX</th>\n",
       "      <th>state_UT</th>\n",
       "      <th>state_VA</th>\n",
       "      <th>state_VT</th>\n",
       "      <th>state_WA</th>\n",
       "      <th>state_WI</th>\n",
       "      <th>state_WV</th>\n",
       "      <th>state_WY</th>\n",
       "    </tr>\n",
       "  </thead>\n",
       "  <tbody>\n",
       "    <tr>\n",
       "      <th>0</th>\n",
       "      <td>0</td>\n",
       "      <td>128</td>\n",
       "      <td>415</td>\n",
       "      <td>382</td>\n",
       "      <td>0</td>\n",
       "      <td>1</td>\n",
       "      <td>0.490196</td>\n",
       "      <td>0.755701</td>\n",
       "      <td>0.666667</td>\n",
       "      <td>0.755701</td>\n",
       "      <td>...</td>\n",
       "      <td>0</td>\n",
       "      <td>0</td>\n",
       "      <td>0</td>\n",
       "      <td>0</td>\n",
       "      <td>0</td>\n",
       "      <td>0</td>\n",
       "      <td>0</td>\n",
       "      <td>0</td>\n",
       "      <td>0</td>\n",
       "      <td>0</td>\n",
       "    </tr>\n",
       "    <tr>\n",
       "      <th>1</th>\n",
       "      <td>1</td>\n",
       "      <td>107</td>\n",
       "      <td>415</td>\n",
       "      <td>371</td>\n",
       "      <td>0</td>\n",
       "      <td>1</td>\n",
       "      <td>0.509804</td>\n",
       "      <td>0.460661</td>\n",
       "      <td>0.745455</td>\n",
       "      <td>0.460597</td>\n",
       "      <td>...</td>\n",
       "      <td>0</td>\n",
       "      <td>0</td>\n",
       "      <td>0</td>\n",
       "      <td>0</td>\n",
       "      <td>0</td>\n",
       "      <td>0</td>\n",
       "      <td>0</td>\n",
       "      <td>0</td>\n",
       "      <td>0</td>\n",
       "      <td>0</td>\n",
       "    </tr>\n",
       "    <tr>\n",
       "      <th>2</th>\n",
       "      <td>2</td>\n",
       "      <td>137</td>\n",
       "      <td>415</td>\n",
       "      <td>358</td>\n",
       "      <td>0</td>\n",
       "      <td>0</td>\n",
       "      <td>0.000000</td>\n",
       "      <td>0.693843</td>\n",
       "      <td>0.690909</td>\n",
       "      <td>0.693830</td>\n",
       "      <td>...</td>\n",
       "      <td>0</td>\n",
       "      <td>0</td>\n",
       "      <td>0</td>\n",
       "      <td>0</td>\n",
       "      <td>0</td>\n",
       "      <td>0</td>\n",
       "      <td>0</td>\n",
       "      <td>0</td>\n",
       "      <td>0</td>\n",
       "      <td>0</td>\n",
       "    </tr>\n",
       "    <tr>\n",
       "      <th>3</th>\n",
       "      <td>3</td>\n",
       "      <td>84</td>\n",
       "      <td>408</td>\n",
       "      <td>375</td>\n",
       "      <td>1</td>\n",
       "      <td>0</td>\n",
       "      <td>0.000000</td>\n",
       "      <td>0.853478</td>\n",
       "      <td>0.430303</td>\n",
       "      <td>0.853454</td>\n",
       "      <td>...</td>\n",
       "      <td>0</td>\n",
       "      <td>0</td>\n",
       "      <td>0</td>\n",
       "      <td>0</td>\n",
       "      <td>0</td>\n",
       "      <td>0</td>\n",
       "      <td>0</td>\n",
       "      <td>0</td>\n",
       "      <td>0</td>\n",
       "      <td>0</td>\n",
       "    </tr>\n",
       "    <tr>\n",
       "      <th>4</th>\n",
       "      <td>4</td>\n",
       "      <td>75</td>\n",
       "      <td>415</td>\n",
       "      <td>330</td>\n",
       "      <td>1</td>\n",
       "      <td>0</td>\n",
       "      <td>0.000000</td>\n",
       "      <td>0.475200</td>\n",
       "      <td>0.684848</td>\n",
       "      <td>0.475184</td>\n",
       "      <td>...</td>\n",
       "      <td>0</td>\n",
       "      <td>0</td>\n",
       "      <td>0</td>\n",
       "      <td>0</td>\n",
       "      <td>0</td>\n",
       "      <td>0</td>\n",
       "      <td>0</td>\n",
       "      <td>0</td>\n",
       "      <td>0</td>\n",
       "      <td>0</td>\n",
       "    </tr>\n",
       "  </tbody>\n",
       "</table>\n",
       "<p>5 rows × 76 columns</p>\n",
       "</div>"
      ],
      "text/plain": [
       "   Unnamed: 0  account_length  area_code  phone_number  international_plan  \\\n",
       "0           0             128        415           382                   0   \n",
       "1           1             107        415           371                   0   \n",
       "2           2             137        415           358                   0   \n",
       "3           3              84        408           375                   1   \n",
       "4           4              75        415           330                   1   \n",
       "\n",
       "   voice_mail_plan  number_vmail_messages  total_day_minutes  total_day_calls  \\\n",
       "0                1               0.490196           0.755701         0.666667   \n",
       "1                1               0.509804           0.460661         0.745455   \n",
       "2                0               0.000000           0.693843         0.690909   \n",
       "3                0               0.000000           0.853478         0.430303   \n",
       "4                0               0.000000           0.475200         0.684848   \n",
       "\n",
       "   total_day_charge  ...  state_SD  state_TN  state_TX  state_UT  state_VA  \\\n",
       "0          0.755701  ...         0         0         0         0         0   \n",
       "1          0.460597  ...         0         0         0         0         0   \n",
       "2          0.693830  ...         0         0         0         0         0   \n",
       "3          0.853454  ...         0         0         0         0         0   \n",
       "4          0.475184  ...         0         0         0         0         0   \n",
       "\n",
       "   state_VT  state_WA  state_WI  state_WV  state_WY  \n",
       "0         0         0         0         0         0  \n",
       "1         0         0         0         0         0  \n",
       "2         0         0         0         0         0  \n",
       "3         0         0         0         0         0  \n",
       "4         0         0         0         0         0  \n",
       "\n",
       "[5 rows x 76 columns]"
      ]
     },
     "execution_count": 3,
     "metadata": {},
     "output_type": "execute_result"
    }
   ],
   "source": [
    "# Load Cleaned file\n",
    "df = pd.read_csv('cleaned_customer_churn.csv')\n",
    "df.head()"
   ]
  },
  {
   "cell_type": "code",
   "execution_count": 4,
   "metadata": {},
   "outputs": [],
   "source": [
    "#Seperate independent and dependent variables\n",
    "X = df.drop('churn', axis=1)\n",
    "y = df['churn']\n",
    "\n",
    "#Train Test split 75/25 using random state for reproduction\n",
    "X_train, X_test, y_train, y_test = train_test_split(X, y, train_size=.75, random_state=42)"
   ]
  },
  {
   "cell_type": "code",
   "execution_count": 155,
   "metadata": {},
   "outputs": [],
   "source": [
    "#Seperate independent and dependent variables\n",
    "X_og = df_og.drop('churn', axis=1)\n",
    "y_og = df_og['churn']\n",
    "\n",
    "#Train Test split 75/25 using random state for reproduction\n",
    "X_og_train, X_og_test, y_og_train, y_og_test = train_test_split(X_og, y_og, train_size=.75, random_state=42)"
   ]
  },
  {
   "cell_type": "markdown",
   "metadata": {},
   "source": [
    "We will use StandardScaler to transform our data to have a distribution with a mean value of 0 and standard deviation 1. \n",
    "\n",
    "Then we will use a Regression to set a base model."
   ]
  },
  {
   "cell_type": "markdown",
   "metadata": {},
   "source": [
    "**Functions**\n",
    "\n",
    "Build a helped function that will print out Accuracy, Recall, F1 and AUC scores as well as a Confusion Matrix.\n",
    "\n",
    "- **Accuracy** is the ratio of correct predictions to incorrect predictions. \n",
    "- **Recall** is the ratio of correctly predicted positive outcomes vs all predicted positive outcomes.\n",
    "- **F1 Score** is the weighted average of Precision and Recall.\n",
    "- **AUC** (Area Under the Curve) is a mystery to me\n",
    "- A **Confusion Matrix** is a table containing the number or ratio of observations split by True Positive, False Positive, True Negative and False Negative.  "
   ]
  },
  {
   "cell_type": "code",
   "execution_count": 156,
   "metadata": {},
   "outputs": [],
   "source": [
    "def scores(y_test, predictions):\n",
    "    logit_matrix = confusion_matrix(y_test, predictions)\n",
    "    \n",
    "    print('Accuracy Score:', accuracy_score(y_test, predictions))\n",
    "    print('Recall Score:  ', recall_score(y_test, predictions))\n",
    "    print('F1 Score:      ', f1_score(y_test, predictions))\n",
    "    print('AUC:           ', roc_auc_score(y_test, predictions))\n",
    "    print('Confusion Matrix: \\n', logit_matrix)\n",
    "    "
   ]
  },
  {
   "cell_type": "markdown",
   "metadata": {},
   "source": [
    "**Dummy Classifier**\n",
    "\n",
    "We will use the sklearn DummyClassfier tool to establish some sort of baseline model that will help us set a floor for accuracy and understand which scores will have to be a focus for us.\n",
    "\n",
    "Evidently, recall and F1 score will have to be important as we want to focus on getting as many churned customers right. "
   ]
  },
  {
   "cell_type": "code",
   "execution_count": 7,
   "metadata": {
    "scrolled": false
   },
   "outputs": [
    {
     "name": "stdout",
     "output_type": "stream",
     "text": [
      "\n",
      " Strategy:  most_frequent\n",
      "Accuracy Score: 0.8501199040767387\n",
      "Recall Score:   0.0\n",
      "F1 Score:       0.0\n",
      "AUC:            0.5\n",
      "Logistic Regression Confusion Matrix: \n",
      " [[709   0]\n",
      " [125   0]]\n",
      "\n",
      " Strategy:  stratified\n",
      "Accuracy Score: 0.7398081534772182\n",
      "Recall Score:   0.144\n",
      "F1 Score:       0.14229249011857706\n",
      "AUC:            0.494425952045134\n",
      "Logistic Regression Confusion Matrix: \n",
      " [[599 110]\n",
      " [107  18]]\n",
      "\n",
      " Strategy:  uniform\n",
      "Accuracy Score: 0.4892086330935252\n",
      "Recall Score:   0.512\n",
      "F1 Score:       0.23104693140794222\n",
      "AUC:            0.4985952045133991\n",
      "Logistic Regression Confusion Matrix: \n",
      " [[344 365]\n",
      " [ 61  64]]\n"
     ]
    },
    {
     "data": {
      "image/png": "[encoded data removed]",
      "text/plain": [
       "<Figure size 432x288 with 1 Axes>"
      ]
     },
     "metadata": {
      "needs_background": "light"
     },
     "output_type": "display_data"
    }
   ],
   "source": [
    "strategies = ['most_frequent', 'stratified', 'uniform']\n",
    "  \n",
    "test_scores = []\n",
    "\n",
    "for s in strategies:\n",
    "    if s =='constant':\n",
    "        dclf = DummyClassifier(strategy = s, random_state = 42, constant = None)\n",
    "    else:\n",
    "        dclf = DummyClassifier(strategy = s, random_state = 42)\n",
    "    dclf.fit(X_train, y_train)\n",
    "    score = dclf.score(X_test, y_test)\n",
    "    test_scores.append(score)\n",
    "    predict = dclf.predict(X_test)\n",
    "    \n",
    "    \n",
    "    print('\\n Strategy: ', s)\n",
    "    scores(y_test, predict)\n",
    "\n",
    "ax = sns.stripplot(strategies, test_scores);\n",
    "ax.set(xlabel ='Strategy', ylabel ='Test Score')\n",
    "plt.show()"
   ]
  },
  {
   "cell_type": "markdown",
   "metadata": {},
   "source": [
    "Because of the disproportionate amount of customers who didn't churn, the first model was able to predict with 85% accuracy by just labeling everything as not going to churn it achieved a relatively high accuracy but because of this, it achieved a zero F1 Score. The models progressively had a lower accuracy but a higher F1 score because they managed to classify increasing numbers of True Positives, but also increased the number of False Positives. \n",
    "\n",
    "None of these are sufficiently accurate to be considered as a viable model, but they will serve as a benchmark to see roughly how much we can improve."
   ]
  },
  {
   "cell_type": "markdown",
   "metadata": {},
   "source": [
    "**Logistic Regression**"
   ]
  },
  {
   "cell_type": "code",
   "execution_count": 59,
   "metadata": {},
   "outputs": [
    {
     "data": {
      "text/plain": [
       "LogisticRegression(C=1e+16, class_weight=None, dual=False, fit_intercept=True,\n",
       "                   intercept_scaling=1, l1_ratio=None, max_iter=100,\n",
       "                   multi_class='warn', n_jobs=None, penalty='l2',\n",
       "                   random_state=None, solver='liblinear', tol=0.0001, verbose=0,\n",
       "                   warm_start=False)"
      ]
     },
     "execution_count": 59,
     "metadata": {},
     "output_type": "execute_result"
    }
   ],
   "source": [
    "# Log Reg w/ Intercept\n",
    "logregi = LogisticRegression(fit_intercept = True, C = 1e16, solver = 'liblinear')\n",
    "logregi.fit(X_train, y_train)"
   ]
  },
  {
   "cell_type": "code",
   "execution_count": 96,
   "metadata": {},
   "outputs": [
    {
     "name": "stdout",
     "output_type": "stream",
     "text": [
      "Scikit-learn Model 1 Test AUC: 0.8322031029619184\n",
      "Scikit-learn Model 1 Train AUC: 0.824649892103883\n",
      "Scikit-learn Model 2 with intercept Test AUC: 0.8335345557122708\n",
      "Scikit-learn Model 2 with intercept Train AUC: 0.8271509423623379\n"
     ]
    },
    {
     "data": {
      "image/png": "[encoded data removed]",
      "text/plain": [
       "<Figure size 720x576 with 1 Axes>"
      ]
     },
     "metadata": {},
     "output_type": "display_data"
    }
   ],
   "source": [
    "# Log Reg w/ Intercept\n",
    "logregi = LogisticRegression(fit_intercept = True, C = 1e16, solver = 'liblinear')\n",
    "logregi.fit(X_train, y_train)\n",
    "\n",
    "# LogReg w/ Intercept\n",
    "y_test_score = logregi.decision_function(X_test)\n",
    "y_train_score = logregi.decision_function(X_train)\n",
    "\n",
    "test_fpr, test_tpr, test_thresholds = roc_curve(y_test, y_test_score)\n",
    "train_fpr, train_tpr, train_thresholds = roc_curve(y_train, y_train_score)\n",
    "\n",
    "print('Scikit-learn Model 2 with intercept Test AUC: {}'.format(auc(test_fpr, test_tpr)))\n",
    "print('Scikit-learn Model 2 with intercept Train AUC: {}'.format(auc(train_fpr, train_tpr)))\n",
    "\n",
    "\n",
    "plt.plot(test_fpr, test_tpr, color='purple',\n",
    "         lw=lw, label='Scikit learn Model 2 with intercept Test ROC curve')\n",
    "plt.plot(train_fpr, train_tpr, color='red',\n",
    "         lw=lw, label='Scikit learn Model 2 with intercept Train ROC curve')\n",
    "\n",
    "# Formatting\n",
    "\n",
    "plt.plot([0, 1], [0, 1], color='navy', lw=lw, linestyle='--')\n",
    "plt.xlim([0.0, 1.0])\n",
    "plt.ylim([0.0, 1.05])\n",
    "plt.yticks([i/20.0 for i in range(21)])\n",
    "plt.xticks([i/20.0 for i in range(21)])\n",
    "plt.xlabel('False Positive Rate')\n",
    "plt.ylabel('True Positive Rate')\n",
    "plt.title('Receiver operating characteristic (ROC) Curve')\n",
    "plt.legend(loc=\"lower right\")\n",
    "plt.show()"
   ]
  },
  {
   "cell_type": "code",
   "execution_count": 99,
   "metadata": {
    "scrolled": true
   },
   "outputs": [
    {
     "name": "stdout",
     "output_type": "stream",
     "text": [
      "Accuracy Score: 0.8465227817745803\n",
      "Recall Score:   0.4666666666666667\n",
      "F1 Score:       0.24705882352941178\n",
      "AUC:            0.667427122940431\n",
      "Confusion Matrix: \n",
      " [[685 104]\n",
      " [ 24  21]]\n"
     ]
    }
   ],
   "source": [
    "predicti = logregi.predict(X_test)\n",
    "scores(predicti, y_test)"
   ]
  },
  {
   "cell_type": "code",
   "execution_count": 100,
   "metadata": {},
   "outputs": [
    {
     "name": "stdout",
     "output_type": "stream",
     "text": [
      "Accuracy Score: 0.8465227817745803\n",
      "Recall Score:   0.4666666666666667\n",
      "F1 Score:       0.24705882352941178\n",
      "AUC:            0.667427122940431\n",
      "Confusion Matrix: \n",
      " [[685 104]\n",
      " [ 24  21]]\n",
      "Scikit-learn Model 2 with intercept Test AUC: 0.8335345557122708\n",
      "Scikit-learn Model 2 with intercept Train AUC: 0.8271509423623379\n"
     ]
    }
   ],
   "source": [
    "# Log Reg w/ Intercept\n",
    "logregi = LogisticRegression(fit_intercept = True, C = 1e16, solver = 'liblinear')\n",
    "logregi.fit(X_train, y_train)\n",
    "\n",
    "predicti = logregi.predict(X_test)\n",
    "scores(predicti, y_test)\n",
    "\n",
    "# LogReg w/ Intercept\n",
    "y_test_score = logregi.decision_function(X_test)\n",
    "y_train_score = logregi.decision_function(X_train)\n",
    "\n",
    "test_fpr, test_tpr, test_thresholds = roc_curve(y_test, y_test_score)\n",
    "train_fpr, train_tpr, train_thresholds = roc_curve(y_train, y_train_score)\n",
    "\n",
    "print('Scikit-learn Model 2 with intercept Test AUC: {}'.format(auc(test_fpr, test_tpr)))\n",
    "print('Scikit-learn Model 2 with intercept Train AUC: {}'.format(auc(train_fpr, train_tpr)))"
   ]
  },
  {
   "cell_type": "markdown",
   "metadata": {},
   "source": [
    "Solid performance when measuring solely for AUC but when applied to the model as a whole, performance falls significantly, especially with regards to Recall and F1. Will not suffice. \n",
    "\n"
   ]
  },
  {
   "cell_type": "markdown",
   "metadata": {},
   "source": [
    "**GridSearchCV**\n",
    "\n",
    "We will be using GridSearchCV to tune the parameters of each of the following models we will be using. "
   ]
  },
  {
   "cell_type": "markdown",
   "metadata": {},
   "source": [
    "**Decision Tree**\n",
    "\n",
    "We will be using Cross Validation Score to estimate the skill of each model before measuring the output scores they each achieve."
   ]
  },
  {
   "cell_type": "code",
   "execution_count": 73,
   "metadata": {},
   "outputs": [
    {
     "name": "stdout",
     "output_type": "stream",
     "text": [
      "Mean Cross Validation Score for Decision Tree: 94.84%\n"
     ]
    }
   ],
   "source": [
    "# Instantiate Decision Tree Classifier\n",
    "dt_clf = DecisionTreeClassifier(random_state = 42)\n",
    "dt_cv_score = cross_val_score(dt_clf, X_train, y_train, cv = 3)\n",
    "mean_dt_cv_score = np.mean(dt_cv_score)\n",
    "\n",
    "\n",
    "print(f\"Mean Cross Validation Score for Decision Tree: {mean_dt_cv_score :.2%}\")"
   ]
  },
  {
   "cell_type": "code",
   "execution_count": 30,
   "metadata": {},
   "outputs": [
    {
     "name": "stdout",
     "output_type": "stream",
     "text": [
      "Accuracy Score: 0.9808153477218226\n",
      "Recall Score:   0.990990990990991\n",
      "F1 Score:       0.9322033898305084\n",
      "AUC:            0.9851220515120931\n",
      "Logistic Regression Confusion Matrix: \n",
      " [[708  15]\n",
      " [  1 110]]\n",
      "Mean Training Score: 96.21%\n",
      "Mean Test Score: 98.08%\n",
      "Best Parameter Combination Found During Grid Search:\n"
     ]
    },
    {
     "data": {
      "text/plain": [
       "{'criterion': 'gini',\n",
       " 'max_depth': 5,\n",
       " 'min_samples_leaf': 6,\n",
       " 'min_samples_split': 2}"
      ]
     },
     "execution_count": 30,
     "metadata": {},
     "output_type": "execute_result"
    }
   ],
   "source": [
    "# Set up Decision Tree Parameters for GridSearchCV\n",
    "dt_param_grid = {\n",
    "    \"criterion\": [\"gini\",\"entropy\"],\n",
    "    \"max_depth\": [None, 2, 3, 4, 5, 6],\n",
    "    \"min_samples_split\": [2, 5,10],\n",
    "    \"min_samples_leaf\": [1, 2, 3, 4, 5, 6]\n",
    "}\n",
    "\n",
    "# Instantiate GridSearchCV\n",
    "dt_grid_search = GridSearchCV(dt_clf, dt_param_grid, cv=3, \n",
    "                              return_train_score=True)\n",
    "\n",
    "# Fit to the data\n",
    "dt_grid_search.fit(X_train, y_train)\n",
    "\n",
    "# Mean training score\n",
    "dt_gs_training_score = np.mean(dt_grid_search.cv_results_['mean_train_score'])\n",
    "\n",
    "# Mean test score\n",
    "dt_gs_testing_score = dt_grid_search.score(X_test, y_test)\n",
    "\n",
    "dt_predictions = dt_grid_search.best_estimator_.predict(X_test)\n",
    "\n",
    "\n",
    "scores(dt_predictions, y_test)\n",
    "print(f\"Mean Training Score: {dt_gs_training_score :.2%}\")\n",
    "print(f\"Mean Test Score: {dt_gs_testing_score :.2%}\")\n",
    "print(\"Best Parameter Combination Found During Grid Search:\")\n",
    "dt_grid_search.best_params_"
   ]
  },
  {
   "cell_type": "markdown",
   "metadata": {},
   "source": [
    "This model has really good performance, almost across the board. Will be hard to beat, and the thing of importance here is the near perfect Recall Score while still maintaining a very solid 93% F1 Score."
   ]
  },
  {
   "cell_type": "markdown",
   "metadata": {},
   "source": [
    "**Random Forests**"
   ]
  },
  {
   "cell_type": "code",
   "execution_count": 31,
   "metadata": {},
   "outputs": [
    {
     "name": "stdout",
     "output_type": "stream",
     "text": [
      "Mean Cross Validation Score for Random Forest Classifier: 93.16%\n"
     ]
    }
   ],
   "source": [
    "# Instantiate Random Forest Classifier\n",
    "rf_clf = RandomForestClassifier(random_state = 42)\n",
    "mean_rf_cv_score = np.mean(cross_val_score(rf_clf, X_train, y_train, cv=3))\n",
    "\n",
    "#Estimate Performance\n",
    "print(f\"Mean Cross Validation Score for Random Forest Classifier: {mean_rf_cv_score :.2%}\")"
   ]
  },
  {
   "cell_type": "code",
   "execution_count": 32,
   "metadata": {},
   "outputs": [
    {
     "name": "stdout",
     "output_type": "stream",
     "text": [
      "Accuracy Score: 0.9460431654676259\n",
      "Recall Score:   1.0\n",
      "F1 Score:       0.7804878048780487\n",
      "AUC:            0.9701591511936339\n",
      "Logistic Regression Confusion Matrix: \n",
      " [[709  45]\n",
      " [  0  80]]\n",
      "Mean Training Score: 92.57%\n",
      "Testing Accuracy: 94.24%\n",
      "\n"
     ]
    },
    {
     "data": {
      "text/plain": [
       "{'criterion': 'gini',\n",
       " 'max_depth': None,\n",
       " 'min_samples_leaf': 3,\n",
       " 'min_samples_split': 10,\n",
       " 'n_estimators': 100}"
      ]
     },
     "execution_count": 32,
     "metadata": {},
     "output_type": "execute_result"
    }
   ],
   "source": [
    "# Set up Random Forest Parameters for GridSearchCV\n",
    "rf_param_grid = {\n",
    "    'n_estimators': [10, 30, 100],\n",
    "    'criterion': ['gini', 'entropy'],\n",
    "    'max_depth': [None, 2, 6, 10],\n",
    "    'min_samples_split': [5, 10],\n",
    "    'min_samples_leaf': [3, 6]\n",
    "}\n",
    "\n",
    "rf_grid_search = GridSearchCV(rf_clf, rf_param_grid, cv=3, return_train_score=True)\n",
    "rf_grid_search.fit(X_train, y_train)\n",
    "rf_gs_training_score = np.mean(rf_grid_search.cv_results_['mean_train_score'])\n",
    "rf_predictions = rf_grid_search.best_estimator_.predict(X_test)\n",
    "\n",
    "scores(rf_predictions, y_test)\n",
    "print(f\"Mean Training Score: {rf_gs_training_score :.2%}\")\n",
    "print(f\"Testing Accuracy: {rf_grid_search.best_score_ :.2%}\")\n",
    "print(\"\")\n",
    "rf_grid_search.best_params_"
   ]
  },
  {
   "cell_type": "markdown",
   "metadata": {},
   "source": [
    "While Recall is perfect, F1 score is significantly lower, indicating that Precsion is low. Not a good model."
   ]
  },
  {
   "cell_type": "code",
   "execution_count": 33,
   "metadata": {},
   "outputs": [
    {
     "name": "stdout",
     "output_type": "stream",
     "text": [
      "Accuracy Score: 0.960431654676259\n",
      "Recall Score:   1.0\n",
      "F1 Score:       0.847926267281106\n",
      "AUC:            0.9777628032345014\n",
      "Logistic Regression Confusion Matrix: \n",
      " [[709  33]\n",
      " [  0  92]]\n",
      "Mean Training Score: 100.00%\n",
      "Testing Accuracy: 95.16%\n",
      "\n"
     ]
    },
    {
     "data": {
      "text/plain": [
       "{'criterion': 'gini',\n",
       " 'max_depth': 25,\n",
       " 'max_features': 'sqrt',\n",
       " 'n_estimators': 500}"
      ]
     },
     "execution_count": 33,
     "metadata": {},
     "output_type": "execute_result"
    }
   ],
   "source": [
    "# Parameters\n",
    "rf_param_grid = {'max_depth': [25, 50, 75],\n",
    "                        'max_features': ['sqrt'],\n",
    "                        'criterion': ['gini', 'entropy'],\n",
    "                        'n_estimators': [100, 300, 500, 1000]}\n",
    "\n",
    "rf_grid_search = GridSearchCV(rf_clf, rf_param_grid, cv=3, return_train_score=True)\n",
    "rf_grid_search.fit(X_train, y_train)\n",
    "rf_gs_training_score = np.mean(rf_grid_search.cv_results_['mean_train_score'])\n",
    "rf_predictions1 = rf_grid_search.best_estimator_.predict(X_test)\n",
    "\n",
    "scores(rf_predictions1, y_test)\n",
    "print(f\"Mean Training Score: {rf_gs_training_score :.2%}\")\n",
    "print(f\"Testing Accuracy: {rf_grid_search.best_score_ :.2%}\")\n",
    "print(\"\")\n",
    "rf_grid_search.best_params_"
   ]
  },
  {
   "cell_type": "markdown",
   "metadata": {},
   "source": [
    "The Decision Tree Model is preferred both because of the higher F1, Accuracy, and AUC scores, and because we hit a higher portion of True Positives. The main focus of this project to identify all churns, i.e. maximizing True Positives. "
   ]
  },
  {
   "cell_type": "markdown",
   "metadata": {},
   "source": [
    "**XGBoost**\n",
    "\n",
    "The most powerful model we will use, hopefully this will allow us to improve on the Decision Tree slightly"
   ]
  },
  {
   "cell_type": "code",
   "execution_count": 70,
   "metadata": {},
   "outputs": [
    {
     "name": "stdout",
     "output_type": "stream",
     "text": [
      "Training Accuracy: 97.96%\n",
      "Validation accuracy: 98.2%\n"
     ]
    }
   ],
   "source": [
    "clf = xgb.XGBClassifier()\n",
    "clf.fit(X_train, y_train)\n",
    "training_preds = clf.predict(X_train)\n",
    "val_preds = clf.predict(X_test)\n",
    "training_accuracy = accuracy_score(y_train, training_preds)\n",
    "val_accuracy = accuracy_score(y_test, val_preds)\n",
    "\n",
    "print(\"Training Accuracy: {:.4}%\".format(training_accuracy * 100))\n",
    "print(\"Validation accuracy: {:.4}%\".format(val_accuracy * 100))"
   ]
  },
  {
   "cell_type": "code",
   "execution_count": 69,
   "metadata": {},
   "outputs": [
    {
     "name": "stdout",
     "output_type": "stream",
     "text": [
      "Mean Cross Validation Score for XGBoost Classifier: 97.64%\n"
     ]
    }
   ],
   "source": [
    "xg_clf = xgb.XGBClassifier(random_state = 42)\n",
    "mean_xg_cv_score = np.mean(cross_val_score(xg_clf, X_train, y_train, cv=3))\n",
    "\n",
    "print(f\"Mean Cross Validation Score for XGBoost Classifier: {mean_xg_cv_score :.2%}\")"
   ]
  },
  {
   "cell_type": "code",
   "execution_count": 71,
   "metadata": {},
   "outputs": [
    {
     "name": "stdout",
     "output_type": "stream",
     "text": [
      "Accuracy Score: 0.973621103117506\n",
      "Recall Score:   0.9724770642201835\n",
      "F1 Score:       0.9059829059829061\n",
      "AUC:            0.9731350838342296\n",
      "Confusion Matrix: \n",
      " [[706  19]\n",
      " [  3 106]]\n",
      "Mean Training Score: 96.12%\n",
      "Testing Accuracy: 96.52%\n",
      "\n"
     ]
    },
    {
     "data": {
      "text/plain": [
       "{'learning_rate': 0.1,\n",
       " 'max_depth': 6,\n",
       " 'min_child_weight': 10,\n",
       " 'n_estimators': 250,\n",
       " 'subsample': 0.8}"
      ]
     },
     "execution_count": 71,
     "metadata": {},
     "output_type": "execute_result"
    }
   ],
   "source": [
    "# Set up XGBoost Parameters for GridSearchCV\n",
    "xg_param_grid = {\n",
    "    \"learning_rate\": [0.1,0.15],\n",
    "    'max_depth': [6, 7],\n",
    "    'min_child_weight': [10, 11,12],\n",
    "    'subsample': [ 0.7, .8],\n",
    "    'n_estimators': [5, 30, 100, 250],\n",
    "}\n",
    "\n",
    "xg_grid_search = GridSearchCV(xg_clf, xg_param_grid, cv=3, return_train_score=True)\n",
    "xg_grid_search.fit(X_train, y_train)\n",
    "xg_gs_training_score = np.mean(xg_grid_search.cv_results_['mean_train_score'])\n",
    "xg_predictions = xg_grid_search.best_estimator_.predict(X_test)\n",
    "\n",
    "scores(xg_predictions, y_test)\n",
    "print(f\"Mean Training Score: {xg_gs_training_score :.2%}\")\n",
    "print(f\"Testing Accuracy: {xg_grid_search.best_score_ :.2%}\")\n",
    "print(\"\")\n",
    "xg_grid_search.best_params_"
   ]
  },
  {
   "cell_type": "code",
   "execution_count": 95,
   "metadata": {},
   "outputs": [
    {
     "data": {
      "image/png": "[encoded data removed]",
      "text/plain": [
       "<Figure size 864x576 with 1 Axes>"
      ]
     },
     "metadata": {},
     "output_type": "display_data"
    }
   ],
   "source": [
    "# Find the best features that can be used for predicting churn\n",
    "xgb_mod = xg_clf.fit(X,y)\n",
    "\n",
    "(pd.Series(xgb_mod.feature_importances_, index=X.columns).nlargest(10)\n",
    "   .plot(kind='barh', figsize=[12,8], color = 'orange').invert_yaxis())\n",
    "\n",
    "plt.yticks(size=13)\n",
    "plt.title('Best Features - XGBoost', size=18)\n",
    "plt.show()"
   ]
  },
  {
   "cell_type": "code",
   "execution_count": 108,
   "metadata": {
    "scrolled": true
   },
   "outputs": [
    {
     "data": {
      "text/plain": [
       "Index(['Unnamed: 0', 'account_length', 'area_code', 'phone_number',\n",
       "       'international_plan', 'voice_mail_plan', 'number_vmail_messages',\n",
       "       'total_day_minutes', 'total_day_calls', 'total_day_charge',\n",
       "       'total_eve_minutes', 'total_eve_calls', 'total_eve_charge',\n",
       "       'total_night_minutes', 'total_night_calls', 'total_night_charge',\n",
       "       'total_intl_minutes', 'total_intl_calls', 'total_intl_charge',\n",
       "       'total_minutes', 'total_charge', 'total_calls', 'average_call_length',\n",
       "       'average_charge', 'customer_service_calls', 'state_AL', 'state_AR',\n",
       "       'state_AZ', 'state_CA', 'state_CO', 'state_CT', 'state_DC', 'state_DE',\n",
       "       'state_FL', 'state_GA', 'state_HI', 'state_IA', 'state_ID', 'state_IL',\n",
       "       'state_IN', 'state_KS', 'state_KY', 'state_LA', 'state_MA', 'state_MD',\n",
       "       'state_ME', 'state_MI', 'state_MN', 'state_MO', 'state_MS', 'state_MT',\n",
       "       'state_NC', 'state_ND', 'state_NE', 'state_NH', 'state_NJ', 'state_NM',\n",
       "       'state_NV', 'state_NY', 'state_OH', 'state_OK', 'state_OR', 'state_PA',\n",
       "       'state_RI', 'state_SC', 'state_SD', 'state_TN', 'state_TX', 'state_UT',\n",
       "       'state_VA', 'state_VT', 'state_WA', 'state_WI', 'state_WV', 'state_WY'],\n",
       "      dtype='object')"
      ]
     },
     "execution_count": 108,
     "metadata": {},
     "output_type": "execute_result"
    }
   ],
   "source": [
    "X.columns"
   ]
  },
  {
   "cell_type": "code",
   "execution_count": 104,
   "metadata": {},
   "outputs": [],
   "source": [
    "np.random.seed(1)\n",
    "explainer = lime.lime_tabular.LimeTabularExplainer(X_train, class_names = ['churn'],\n",
    "                                                  feature_names = feature_names )"
   ]
  },
  {
   "cell_type": "code",
   "execution_count": 107,
   "metadata": {},
   "outputs": [],
   "source": [
    "feature_names = X.columns[1:]"
   ]
  },
  {
   "cell_type": "code",
   "execution_count": null,
   "metadata": {},
   "outputs": [],
   "source": []
  },
  {
   "cell_type": "code",
   "execution_count": null,
   "metadata": {},
   "outputs": [],
   "source": []
  },
  {
   "cell_type": "code",
   "execution_count": null,
   "metadata": {},
   "outputs": [],
   "source": []
  },
  {
   "cell_type": "code",
   "execution_count": null,
   "metadata": {},
   "outputs": [],
   "source": []
  },
  {
   "cell_type": "code",
   "execution_count": null,
   "metadata": {},
   "outputs": [],
   "source": []
  },
  {
   "cell_type": "code",
   "execution_count": null,
   "metadata": {},
   "outputs": [],
   "source": []
  },
  {
   "cell_type": "markdown",
   "metadata": {},
   "source": [
    "## Conclusion\n",
    "\n",
    "Summarize implications of this work on the real-world problem and stakeholders"
   ]
  },
  {
   "cell_type": "code",
   "execution_count": null,
   "metadata": {},
   "outputs": [],
   "source": []
  }
 ],
 "metadata": {
  "kernelspec": {
   "display_name": "Python 3",
   "language": "python",
   "name": "python3"
  },
  "language_info": {
   "codemirror_mode": {
    "name": "ipython",
    "version": 3
   },
   "file_extension": ".py",
   "mimetype": "text/x-python",
   "name": "python",
   "nbconvert_exporter": "python",
   "pygments_lexer": "ipython3",
   "version": "3.7.4"
  }
 },
 "nbformat": 4,
 "nbformat_minor": 2
}
